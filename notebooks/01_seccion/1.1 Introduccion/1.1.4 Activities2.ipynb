{
 "cells": [
  {
   "cell_type": "code",
   "execution_count": 1,
   "metadata": {},
   "outputs": [],
   "source": [
    "# 1.1.4 Activities 2"
   ]
  },
  {
   "cell_type": "markdown",
   "metadata": {},
   "source": [
    "1. Decidir si cada una de las siguientes afirmaciones es verdadera o falsa.\n",
    "\n",
    "\n",
    "- La variable que se va a predecir en la regresión se denomina variable independiente. <br>\n",
    "R./ Falso, La variable que se va a predecir en la regresión se denomina variable **dependiente**.\n",
    "\n",
    "- Si en el análisis de regresión simple la pendiente de la recta es negativa, entonces hay correlación lineal negativa entre las variables. <br>\n",
    "R./ Verdadero, si en el análisis de regresión simple la pendiente de la recta es negativa, entonces hay **correlación lineal negativa** entre las variables.\n",
    "\n",
    "- La nube de puntos es una representación gráfica que nos permite visualizar la posible relación entre dos variables. <br>\n",
    "R./ Verdadero, la nube de puntos es una representación gráfica que nos permite visualizar la posible relación entre dos variables, lo que facilita la identificación de patrones o tendencias en los datos.\n",
    "\n",
    "- El coeficiente de correlación lineal siempre toma valores entre −2 y 2. <br>\n",
    "R./ Falso, el coeficiente sde correlación lineal toma valores entre -1 y 1.\n",
    "\n",
    "- El coeficiente de determinación puede tomar valores negativos. <br>\n",
    "R./ Falso, el coeficiente de determinación, comúnmente conocido como R cuadrado, es una medida de la proporción de la varianza en la variable dependiente que es predecible a partir de la variable independiente(s). Este coeficiente siempre toma valores entre 0 y 1, donde 1 indica un ajuste perfecto del modelo a los datos y 0 indica que el modelo no explica la variabilidad de la variable dependiente. Por lo tanto, el coeficiente de determinación no puede tomar valores negativos.\n",
    "\n",
    "\n",
    "\n"
   ]
  },
  {
   "cell_type": "markdown",
   "metadata": {},
   "source": []
  }
 ],
 "metadata": {
  "kernelspec": {
   "display_name": "Python 3",
   "language": "python",
   "name": "python3"
  },
  "language_info": {
   "codemirror_mode": {
    "name": "ipython",
    "version": 3
   },
   "file_extension": ".py",
   "mimetype": "text/x-python",
   "name": "python",
   "nbconvert_exporter": "python",
   "pygments_lexer": "ipython3",
   "version": "3.12.1"
  }
 },
 "nbformat": 4,
 "nbformat_minor": 2
}
