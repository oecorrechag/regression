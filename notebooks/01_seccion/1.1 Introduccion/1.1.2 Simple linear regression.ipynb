{
 "cells": [
  {
   "cell_type": "markdown",
   "id": "6bfc8fc6",
   "metadata": {},
   "source": [
    "# 1.1.2 Simple linear regression"
   ]
  },
  {
   "cell_type": "code",
   "execution_count": 2,
   "id": "53b57b40",
   "metadata": {},
   "outputs": [],
   "source": [
    "%load_ext autoreload\n",
    "%autoreload 2"
   ]
  },
  {
   "cell_type": "code",
   "execution_count": 3,
   "id": "5fb86f3c",
   "metadata": {},
   "outputs": [],
   "source": [
    "import pandas as pd\n",
    "import numpy as np\n",
    "import matplotlib.pyplot as plt\n",
    "from sklearn.linear_model import LinearRegression\n",
    "\n",
    "pd.set_option('display.max_columns', None)\n",
    "pd.set_option('display.max_rows', None)\n",
    "import warnings\n",
    "warnings.filterwarnings(\"ignore\")"
   ]
  },
  {
   "cell_type": "markdown",
   "id": "8513e901",
   "metadata": {},
   "source": [
    "Links: https://priceonomics.com/the-discovery-of-statistical-regression/\n",
    "Links: https://www.youtube.com/watch?v=o_IP63-VtFA\n",
    "\n",
    "## 1.1.2.1 El modelo forma I\n",
    "\n",
    "$$ y = \\beta_{0} + \\beta_{1}x + e $$\n",
    "\n",
    "con los supuestos:\n",
    "\n",
    "- E(e) = 0\n",
    "- Var(e) = $\\sigma^2$ -> varianza constante\n",
    "- e $\\sim$ Normal\n",
    "- Errores incorrelacionados"
   ]
  },
  {
   "cell_type": "markdown",
   "id": "38e6dbfd",
   "metadata": {},
   "source": [
    "## 1.1.2.2 El modelo forma I\n",
    "\n",
    "$$ 𝑦 \\sim 𝑁(\\mu, \\sigma^2) $$\n",
    "\n",
    "con los supuestos:\n",
    "\n",
    "- $\\mu = \\beta_{0} + \\beta_{1}x $\n",
    "- $\\sigma^2$ varianza constante"
   ]
  },
  {
   "cell_type": "markdown",
   "id": "188c39fc",
   "metadata": {},
   "source": [
    "## 1.1.2.3 Distribución de 𝑦 dado 𝑥\n",
    "\n",
    "Como:\n",
    "\n",
    "$$ 𝑦 = \\beta_{0} + \\beta_{1}x + e $$\n",
    "\n",
    "entonces:\n",
    "\n",
    "- $𝐸(𝑦|𝑥) = \\beta_{0} + \\beta_{1}x $\n",
    "- $𝑉𝑎𝑟(𝑦|𝑥) = 𝑉𝑎𝑟(\\beta_{0} + \\beta_{1}x + e) = \\sigma^2 $"
   ]
  },
  {
   "cell_type": "markdown",
   "id": "7e98a03a",
   "metadata": {},
   "source": [
    "## 1.1.2.4 Parámetros del modelo\n",
    "\n",
    "- $\\beta_{0}$: Intercepto\n",
    "- $\\beta_{1}$: Coeficiente de 𝑥\n",
    "- $\\sigma^2$: Varianza de los errores"
   ]
  },
  {
   "cell_type": "markdown",
   "id": "20a8a6b6",
   "metadata": {},
   "source": [
    "## 1.1.2.5 Estimación de parámetros\n",
    "\n",
    "- Estimación por Mínimos Cuadrados\n",
    "- Estimación por Máxima Verosimilitud"
   ]
  },
  {
   "cell_type": "markdown",
   "id": "a9c60037",
   "metadata": {},
   "source": [
    "## 1.1.2.6 Modelo ajustado\n",
    "\n",
    "$$ \\hat{y} = \\beta_{0} + \\beta_{1}x $$"
   ]
  },
  {
   "cell_type": "markdown",
   "id": "3fb3fd37",
   "metadata": {},
   "source": [
    "## 1.1.2.7 Residuales\n",
    "\n",
    "Un residual (o error) es la diferencia entre el valor observado $𝑦_𝑖$ y el valor predicho o ajustado $\\hat{𝑦_𝑖}$\n",
    "\n",
    "$$ e_{i} = y_{i} - \\hat{y_{i}} $$\n",
    "\n",
    "Los residuales se utilizan para estudiar la adecuación del modelo a los supuestos"
   ]
  },
  {
   "cell_type": "markdown",
   "id": "2cc70e40",
   "metadata": {},
   "source": [
    "## 1.1.2.8 Estimación de Varianza\n",
    "\n",
    "Estimar $\\sigma^2$ es necesario para construir intervalos de confianza y realizar pruebas de hipótesis para\n",
    "los parámetros\n",
    "\n",
    "$$ \\sigma^2 = \\frac{𝑆𝑆_{𝑅𝑒𝑠}}{𝑛-2} ≡ 𝑀𝑆_{𝑅𝑒𝑠} $$ \n",
    "\n",
    "donde $𝑆𝑆_{𝑅𝑒𝑠}$ corresponde a la suma de cuadrados de los residuales"
   ]
  },
  {
   "cell_type": "markdown",
   "id": "81bf4537",
   "metadata": {},
   "source": [
    "## 1.1.2.9 Calcular los Residuales\n",
    "\n",
    "- Forma 1\n",
    "\n",
    "$$ 𝑆𝑆_{𝑅𝑒𝑠} = \\sum_{𝑖=1}^{𝑛} 𝑒_𝑖^2 $$\n",
    "\n",
    "- Forma 2\n",
    "\n",
    "$$ 𝑆𝑆𝑇 = \\sum_{𝑖=1}^{𝑛} 𝑦_𝑖^2 − n\\bar{𝑦}^2 $$\n",
    "\n",
    "$$ 𝑆𝑆_{𝑅𝑒𝑠} = 𝑆𝑆_𝑇 − \\hat{\\beta_{1}} 𝑆_{𝑥𝑦} $$ "
   ]
  },
  {
   "attachments": {
    "correlacion_lineal.png": {
     "image/png": "[encoded data removed]"
    }
   },
   "cell_type": "markdown",
   "id": "d7b6ca9c",
   "metadata": {},
   "source": [
    "## 1.1.2.10 Coeficiente de correlación lineal\n",
    "\n",
    "![correlacion_lineal.png](attachment:correlacion_lineal.png)\n",
    "\n",
    "$$ 𝑟 = \\frac{\\sum_{𝑖=1}^{𝑛} (𝑥_𝑖 − \\bar{𝑥}) (𝑦_i - \\bar{y}) }{ \\sqrt{\\sum_{𝑖=1}^{𝑛} (𝑥_𝑖 − \\bar{𝑥})^2  \\sum_{𝑖=1}^{𝑛} (𝑦_i - \\bar{y})^2 }} "
   ]
  },
  {
   "cell_type": "markdown",
   "id": "e7bc2bfc",
   "metadata": {},
   "source": [
    "## 1.1.2.11 Ejemplo\n",
    "\n",
    "Resistencia de soldadura"
   ]
  },
  {
   "cell_type": "code",
   "execution_count": 12,
   "id": "b16a4401",
   "metadata": {},
   "outputs": [],
   "source": [
    "y_machine = [2158.70,1678.15,2316.00,2061.30,2207.50,1708.30,1784.70,2575.00,2357.90,2256.70,2165.20,2399.55,\n",
    "             1779.80,2336.75,1765.30,2053.50,2414.40,2200.50,2654.20,1753.70]\n",
    "\n",
    "x_machine = [15.50,23.75,8.00,17.00,5.50,19.00,24.00,2.50,7.50,11.00,13.00,3.75,25.00,9.75,22.00,18.00,6.00,\n",
    "             12.50,2.00,21.50]\n",
    "\n",
    "# Calcular la correlación lineal\n",
    "correlation_matrix = np.corrcoef(x_machine, y_machine)\n",
    "correlation = correlation_matrix[0, 1]\n",
    "\n",
    "y_machine = np.array(y_machine)\n",
    "x_machine = np.array(x_machine).reshape(-1, 1)"
   ]
  },
  {
   "cell_type": "code",
   "execution_count": 16,
   "id": "41d3d864",
   "metadata": {},
   "outputs": [
    {
     "data": {
      "image/png": "[encoded data removed]",
      "text/plain": [
       "<Figure size 600x600 with 1 Axes>"
      ]
     },
     "metadata": {},
     "output_type": "display_data"
    }
   ],
   "source": [
    "# Create the chart\n",
    "plt.figure(figsize=(6, 6))\n",
    "plt.scatter(x_machine, y_machine, label=f'Correlación: {correlation:.2f}')\n",
    "plt.title('Regression Chart')\n",
    "plt.xlabel('Edad en semanas')\n",
    "plt.ylabel('Resistencia [PSI]')\n",
    "plt.legend()\n",
    "plt.show()"
   ]
  },
  {
   "cell_type": "markdown",
   "id": "018a58ac",
   "metadata": {},
   "source": []
  },
  {
   "cell_type": "code",
   "execution_count": null,
   "id": "462294c0",
   "metadata": {},
   "outputs": [],
   "source": []
  },
  {
   "cell_type": "code",
   "execution_count": 6,
   "id": "55e0489e",
   "metadata": {},
   "outputs": [
    {
     "name": "stdout",
     "output_type": "stream",
     "text": [
      "ok_\n"
     ]
    }
   ],
   "source": [
    "print('ok_')"
   ]
  }
 ],
 "metadata": {
  "kernelspec": {
   "display_name": "Python 3 (ipykernel)",
   "language": "python",
   "name": "python3"
  },
  "language_info": {
   "codemirror_mode": {
    "name": "ipython",
    "version": 3
   },
   "file_extension": ".py",
   "mimetype": "text/x-python",
   "name": "python",
   "nbconvert_exporter": "python",
   "pygments_lexer": "ipython3",
   "version": "3.12.1"
  }
 },
 "nbformat": 4,
 "nbformat_minor": 5
}
