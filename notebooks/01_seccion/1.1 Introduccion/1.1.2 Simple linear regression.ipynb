{
 "cells": [
  {
   "cell_type": "markdown",
   "id": "6bfc8fc6",
   "metadata": {},
   "source": [
    "# 1.1.2 Simple linear regression"
   ]
  },
  {
   "cell_type": "code",
   "execution_count": 2,
   "id": "53b57b40",
   "metadata": {},
   "outputs": [],
   "source": [
    "%load_ext autoreload\n",
    "%autoreload 2"
   ]
  },
  {
   "cell_type": "code",
   "execution_count": 3,
   "id": "5fb86f3c",
   "metadata": {},
   "outputs": [],
   "source": [
    "import pandas as pd\n",
    "import numpy as np\n",
    "import matplotlib.pyplot as plt\n",
    "from sklearn.linear_model import LinearRegression\n",
    "from sklearn.metrics import mean_squared_error\n",
    "import statsmodels.api as sm\n",
    "from scipy.stats import poisson\n",
    "\n",
    "pd.set_option('display.max_columns', None)\n",
    "pd.set_option('display.max_rows', None)\n",
    "import warnings\n",
    "warnings.filterwarnings(\"ignore\")"
   ]
  },
  {
   "cell_type": "markdown",
   "id": "8513e901",
   "metadata": {},
   "source": [
    "Links: https://priceonomics.com/the-discovery-of-statistical-regression/\n",
    "Links: https://www.youtube.com/watch?v=o_IP63-VtFA\n",
    "\n",
    "## 1.1.2.1 El modelo forma I\n",
    "\n",
    "$$ y = \\beta_{0} + \\beta_{1}x + e $$\n",
    "\n",
    "con los supuestos:\n",
    "\n",
    "- E(e) = 0\n",
    "- Var(e) = $\\sigma^2$ -> varianza constante\n",
    "- e $\\sim$ Normal\n",
    "- Errores incorrelacionados"
   ]
  },
  {
   "cell_type": "markdown",
   "id": "38e6dbfd",
   "metadata": {},
   "source": [
    "## 1.1.2.2 El modelo forma I\n",
    "\n",
    "$$ 𝑦 \\sim 𝑁(\\mu, \\sigma^2) $$\n",
    "\n",
    "con los supuestos:\n",
    "\n",
    "- $\\mu = \\beta_{0} + \\beta_{1}x $\n",
    "- $\\sigma^2$ varianza constante"
   ]
  },
  {
   "cell_type": "markdown",
   "id": "188c39fc",
   "metadata": {},
   "source": [
    "## 1.1.2.3 Distribución de 𝑦 dado 𝑥\n",
    "\n",
    "Como:\n",
    "\n",
    "$$ 𝑦 = \\beta_{0} + \\beta_{1}x + e $$\n",
    "\n",
    "entonces:\n",
    "\n",
    "- $𝐸(𝑦|𝑥) = \\beta_{0} + \\beta_{1}x $\n",
    "- $𝑉𝑎𝑟(𝑦|𝑥) = 𝑉𝑎𝑟(\\beta_{0} + \\beta_{1}x + e) = \\sigma^2 $"
   ]
  },
  {
   "cell_type": "markdown",
   "id": "7e98a03a",
   "metadata": {},
   "source": [
    "## 1.1.2.4 Parámetros del modelo\n",
    "\n",
    "- $\\beta_{0}$: Intercepto\n",
    "- $\\beta_{1}$: Coeficiente de 𝑥\n",
    "- $\\sigma^2$: Varianza de los errores"
   ]
  },
  {
   "cell_type": "markdown",
   "id": "20a8a6b6",
   "metadata": {},
   "source": [
    "## 1.1.2.5 Estimación de parámetros\n",
    "\n",
    "- Estimación por Mínimos Cuadrados\n",
    "- Estimación por Máxima Verosimilitud"
   ]
  },
  {
   "cell_type": "markdown",
   "id": "a9c60037",
   "metadata": {},
   "source": [
    "## 1.1.2.6 Modelo ajustado\n",
    "\n",
    "$$ \\hat{y} = \\beta_{0} + \\beta_{1}x $$"
   ]
  },
  {
   "cell_type": "markdown",
   "id": "3fb3fd37",
   "metadata": {},
   "source": [
    "## 1.1.2.7 Residuales\n",
    "\n",
    "Un residual (o error) es la diferencia entre el valor observado $𝑦_𝑖$ y el valor predicho o ajustado $\\hat{𝑦_𝑖}$\n",
    "\n",
    "$$ e_{i} = y_{i} - \\hat{y_{i}} $$\n",
    "\n",
    "Los residuales se utilizan para estudiar la adecuación del modelo a los supuestos"
   ]
  },
  {
   "cell_type": "markdown",
   "id": "2cc70e40",
   "metadata": {},
   "source": [
    "## 1.1.2.8 Estimación de Varianza\n",
    "\n",
    "Estimar $\\sigma^2$ es necesario para construir intervalos de confianza y realizar pruebas de hipótesis para\n",
    "los parámetros\n",
    "\n",
    "$$ \\sigma^2 = \\frac{𝑆𝑆_{𝑅𝑒𝑠}}{𝑛-2} ≡ 𝑀𝑆_{𝑅𝑒𝑠} $$ \n",
    "\n",
    "donde $𝑆𝑆_{𝑅𝑒𝑠}$ corresponde a la suma de cuadrados de los residuales"
   ]
  },
  {
   "cell_type": "markdown",
   "id": "81bf4537",
   "metadata": {},
   "source": [
    "## 1.1.2.9 Calcular los Residuales\n",
    "\n",
    "- Forma 1\n",
    "\n",
    "$$ 𝑆𝑆_{𝑅𝑒𝑠} = \\sum_{𝑖=1}^{𝑛} 𝑒_𝑖^2 $$\n",
    "\n",
    "- Forma 2\n",
    "\n",
    "$$ 𝑆𝑆𝑇 = \\sum_{𝑖=1}^{𝑛} 𝑦_𝑖^2 − n\\bar{𝑦}^2 $$\n",
    "\n",
    "$$ 𝑆𝑆_{𝑅𝑒𝑠} = 𝑆𝑆_𝑇 − \\hat{\\beta_{1}} 𝑆_{𝑥𝑦} $$ "
   ]
  },
  {
   "attachments": {
    "correlacion_lineal.png": {
     "image/png": "[encoded data removed]"
    }
   },
   "cell_type": "markdown",
   "id": "d7b6ca9c",
   "metadata": {},
   "source": [
    "## 1.1.2.10 Coeficiente de correlación lineal\n",
    "\n",
    "![correlacion_lineal.png](attachment:correlacion_lineal.png)\n",
    "\n",
    "$$ 𝑟 = \\frac{\\sum_{𝑖=1}^{𝑛} (𝑥_𝑖 − \\bar{𝑥}) (𝑦_i - \\bar{y}) }{ \\sqrt{\\sum_{𝑖=1}^{𝑛} (𝑥_𝑖 − \\bar{𝑥})^2  \\sum_{𝑖=1}^{𝑛} (𝑦_i - \\bar{y})^2 }} "
   ]
  },
  {
   "cell_type": "markdown",
   "id": "e7bc2bfc",
   "metadata": {},
   "source": [
    "## 1.1.2.11 Ejemplo\n",
    "\n",
    "Resistencia de soldadura"
   ]
  },
  {
   "cell_type": "code",
   "execution_count": 4,
   "id": "b16a4401",
   "metadata": {},
   "outputs": [],
   "source": [
    "y_machine = [2158.70,1678.15,2316.00,2061.30,2207.50,1708.30,1784.70,2575.00,2357.90,2256.70,2165.20,2399.55,\n",
    "             1779.80,2336.75,1765.30,2053.50,2414.40,2200.50,2654.20,1753.70]\n",
    "\n",
    "x_machine = [15.50,23.75,8.00,17.00,5.50,19.00,24.00,2.50,7.50,11.00,13.00,3.75,25.00,9.75,22.00,18.00,6.00,\n",
    "             12.50,2.00,21.50]\n",
    "\n",
    "# Calcular la correlación lineal\n",
    "correlation_matrix = np.corrcoef(x_machine, y_machine)\n",
    "correlation = correlation_matrix[0, 1]\n",
    "\n",
    "y_machine = np.array(y_machine)\n",
    "x_machine = np.array(x_machine).reshape(-1, 1)"
   ]
  },
  {
   "cell_type": "code",
   "execution_count": 5,
   "id": "41d3d864",
   "metadata": {},
   "outputs": [
    {
     "data": {
      "image/png": "[encoded data removed]",
      "text/plain": [
       "<Figure size 600x600 with 1 Axes>"
      ]
     },
     "metadata": {},
     "output_type": "display_data"
    }
   ],
   "source": [
    "# Create the chart\n",
    "plt.figure(figsize=(6, 6))\n",
    "plt.scatter(x_machine, y_machine, label=f'Correlación: {correlation:.2f}')\n",
    "plt.title('Regression Chart')\n",
    "plt.xlabel('Edad en semanas')\n",
    "plt.ylabel('Resistencia [PSI]')\n",
    "plt.legend()\n",
    "plt.show()"
   ]
  },
  {
   "cell_type": "code",
   "execution_count": 6,
   "id": "e82722ff",
   "metadata": {},
   "outputs": [],
   "source": [
    "# Lineal regression\n",
    "modelo_regresion = LinearRegression().fit(x_machine, y_machine)\n",
    "pendiente = modelo_regresion.coef_[0]\n",
    "intercepto = modelo_regresion.intercept_\n",
    "\n",
    "linea_regresion = pendiente * x_machine + intercepto"
   ]
  },
  {
   "cell_type": "code",
   "execution_count": 7,
   "id": "c3674f48",
   "metadata": {},
   "outputs": [
    {
     "data": {
      "image/png": "[encoded data removed]",
      "text/plain": [
       "<Figure size 600x600 with 1 Axes>"
      ]
     },
     "metadata": {},
     "output_type": "display_data"
    }
   ],
   "source": [
    "# Create the chart\n",
    "plt.figure(figsize=(6, 6))\n",
    "plt.scatter(x_machine, y_machine, label='Machine data')\n",
    "plt.plot(x_machine, linea_regresion, color='red', label=f'Regression: y = {pendiente:.2f}x + {intercepto:.2f}')\n",
    "plt.title('Regression Chart')\n",
    "plt.xlabel('Edad')\n",
    "plt.ylabel('PSI')\n",
    "plt.legend()\n",
    "plt.show()"
   ]
  },
  {
   "cell_type": "markdown",
   "id": "018a58ac",
   "metadata": {},
   "source": [
    "Model: \n",
    "\n",
    "$$ Resistencia = \\beta_{0} + \\beta_{1} * Edad + e $$\n",
    "\n",
    "$$ S_{xy} = \\sum_{𝑖=1}^{𝑛} 𝑦_𝑖 𝑥_𝑖 − \\frac{(\\sum_{𝑖=1}^{𝑛} x_i) (\\sum_{𝑖=1}^{𝑛} y_i)}{n} = 528492.64 − \\frac{267.25 - 42627.15}{20} = −41112.65 $$\n",
    "\n",
    "$$ S_{xx} = \\sum_{𝑖=1}^{𝑛} 𝑥_𝑖^2 − \\frac{(\\sum_{𝑖=1}^{𝑛} x_i)^2}{n} = 4677.69 - \\frac{71422.56}{20} = 1106.56 $$ \n",
    "\n",
    "$$ \\beta_{1} = \\frac{S_{xy}}{S_{xx}} = \\frac{528492.64}{1106.56} = −37.15 $$\n",
    "\n",
    "$$ \\beta_{0} = \\bar{y} \\beta_{1} \\bar{x} = 2131.35 − (−37.15)13.36 = 2627.82 $$\n",
    "\n",
    "$$ 𝑆𝑆_{𝑇} = \\sum_{𝑖=1}^{𝑛} 𝑦_𝑖^2 − 𝑛 \\bar{𝑦}^2 = 92547433.45 − 20 * 4542685 = 1693738 $$\n",
    "\n",
    "$$ 𝑆𝑆_{𝑅𝑒𝑠} = 𝑆𝑆_{𝑇} − \\beta_{1} 𝑆_{𝑥𝑦} = 1693738 − (−37.15)(−41112.65) = 166402.65 $$\n",
    "\n",
    "$$ \\hat{\\sigma}^2 = \\frac{𝑆𝑆_{𝑅𝑒𝑠}}{𝑛−2} = \\frac{166402.65}{20−2} = 9244.59 {psi}^2 $$\n",
    "\n",
    "$$ \\hat{\\sigma} = 96.15 psi $$\n",
    "\n",
    "Modelo estimado:\n",
    "\n",
    "$$ \\hat{Resistencia} = 2627.82 − 37.15 * Edad $$\n",
    "\n",
    "Resoluciones: \n",
    "\n",
    "- 2627.82 psi es la resistencia esperada para una soldadura nueva.\n",
    "- Por cada semana que envejezca la soldadura se espera una disminución media en la resistencia de 37.15 psi."
   ]
  },
  {
   "cell_type": "markdown",
   "id": "97eaa7ee",
   "metadata": {},
   "source": [
    "¿Cuál será la resistencia media cuando la edad de la soldadura es 10 semanas?"
   ]
  },
  {
   "cell_type": "code",
   "execution_count": 8,
   "id": "462294c0",
   "metadata": {},
   "outputs": [
    {
     "data": {
      "text/plain": [
       "array([2256.28644955])"
      ]
     },
     "execution_count": 8,
     "metadata": {},
     "output_type": "execute_result"
    }
   ],
   "source": [
    "y_pred = modelo_regresion.predict([[10]])\n",
    "y_pred"
   ]
  },
  {
   "cell_type": "markdown",
   "id": "093cab83",
   "metadata": {},
   "source": [
    "Para una soldadura de 10 semanas se espera que la resistencia media sea de 2256.28 psi."
   ]
  },
  {
   "cell_type": "code",
   "execution_count": 9,
   "id": "72a4f1c6",
   "metadata": {},
   "outputs": [
    {
     "data": {
      "text/html": [
       "<div>\n",
       "<style scoped>\n",
       "    .dataframe tbody tr th:only-of-type {\n",
       "        vertical-align: middle;\n",
       "    }\n",
       "\n",
       "    .dataframe tbody tr th {\n",
       "        vertical-align: top;\n",
       "    }\n",
       "\n",
       "    .dataframe thead th {\n",
       "        text-align: right;\n",
       "    }\n",
       "</style>\n",
       "<table border=\"1\" class=\"dataframe\">\n",
       "  <thead>\n",
       "    <tr style=\"text-align: right;\">\n",
       "      <th></th>\n",
       "      <th>X</th>\n",
       "      <th>y</th>\n",
       "      <th>pred</th>\n",
       "      <th>error</th>\n",
       "    </tr>\n",
       "  </thead>\n",
       "  <tbody>\n",
       "    <tr>\n",
       "      <th>0</th>\n",
       "      <td>15.50</td>\n",
       "      <td>2158.70</td>\n",
       "      <td>2051.941699</td>\n",
       "      <td>106.758301</td>\n",
       "    </tr>\n",
       "    <tr>\n",
       "      <th>1</th>\n",
       "      <td>23.75</td>\n",
       "      <td>1678.15</td>\n",
       "      <td>1745.424574</td>\n",
       "      <td>-67.274574</td>\n",
       "    </tr>\n",
       "    <tr>\n",
       "      <th>2</th>\n",
       "      <td>8.00</td>\n",
       "      <td>2316.00</td>\n",
       "      <td>2330.593631</td>\n",
       "      <td>-14.593631</td>\n",
       "    </tr>\n",
       "    <tr>\n",
       "      <th>3</th>\n",
       "      <td>17.00</td>\n",
       "      <td>2061.30</td>\n",
       "      <td>1996.211313</td>\n",
       "      <td>65.088687</td>\n",
       "    </tr>\n",
       "    <tr>\n",
       "      <th>4</th>\n",
       "      <td>5.50</td>\n",
       "      <td>2207.50</td>\n",
       "      <td>2423.477609</td>\n",
       "      <td>-215.977609</td>\n",
       "    </tr>\n",
       "    <tr>\n",
       "      <th>5</th>\n",
       "      <td>19.00</td>\n",
       "      <td>1708.30</td>\n",
       "      <td>1921.904131</td>\n",
       "      <td>-213.604131</td>\n",
       "    </tr>\n",
       "    <tr>\n",
       "      <th>6</th>\n",
       "      <td>24.00</td>\n",
       "      <td>1784.70</td>\n",
       "      <td>1736.136176</td>\n",
       "      <td>48.563824</td>\n",
       "    </tr>\n",
       "    <tr>\n",
       "      <th>7</th>\n",
       "      <td>2.50</td>\n",
       "      <td>2575.00</td>\n",
       "      <td>2534.938382</td>\n",
       "      <td>40.061618</td>\n",
       "    </tr>\n",
       "    <tr>\n",
       "      <th>8</th>\n",
       "      <td>7.50</td>\n",
       "      <td>2357.90</td>\n",
       "      <td>2349.170427</td>\n",
       "      <td>8.729573</td>\n",
       "    </tr>\n",
       "    <tr>\n",
       "      <th>9</th>\n",
       "      <td>11.00</td>\n",
       "      <td>2256.70</td>\n",
       "      <td>2219.132859</td>\n",
       "      <td>37.567141</td>\n",
       "    </tr>\n",
       "    <tr>\n",
       "      <th>10</th>\n",
       "      <td>13.00</td>\n",
       "      <td>2165.20</td>\n",
       "      <td>2144.825677</td>\n",
       "      <td>20.374323</td>\n",
       "    </tr>\n",
       "    <tr>\n",
       "      <th>11</th>\n",
       "      <td>3.75</td>\n",
       "      <td>2399.55</td>\n",
       "      <td>2488.496393</td>\n",
       "      <td>-88.946393</td>\n",
       "    </tr>\n",
       "    <tr>\n",
       "      <th>12</th>\n",
       "      <td>25.00</td>\n",
       "      <td>1779.80</td>\n",
       "      <td>1698.982585</td>\n",
       "      <td>80.817415</td>\n",
       "    </tr>\n",
       "    <tr>\n",
       "      <th>13</th>\n",
       "      <td>9.75</td>\n",
       "      <td>2336.75</td>\n",
       "      <td>2265.574847</td>\n",
       "      <td>71.175153</td>\n",
       "    </tr>\n",
       "    <tr>\n",
       "      <th>14</th>\n",
       "      <td>22.00</td>\n",
       "      <td>1765.30</td>\n",
       "      <td>1810.443358</td>\n",
       "      <td>-45.143358</td>\n",
       "    </tr>\n",
       "    <tr>\n",
       "      <th>15</th>\n",
       "      <td>18.00</td>\n",
       "      <td>2053.50</td>\n",
       "      <td>1959.057722</td>\n",
       "      <td>94.442278</td>\n",
       "    </tr>\n",
       "    <tr>\n",
       "      <th>16</th>\n",
       "      <td>6.00</td>\n",
       "      <td>2414.40</td>\n",
       "      <td>2404.900813</td>\n",
       "      <td>9.499187</td>\n",
       "    </tr>\n",
       "    <tr>\n",
       "      <th>17</th>\n",
       "      <td>12.50</td>\n",
       "      <td>2200.50</td>\n",
       "      <td>2163.402472</td>\n",
       "      <td>37.097528</td>\n",
       "    </tr>\n",
       "    <tr>\n",
       "      <th>18</th>\n",
       "      <td>2.00</td>\n",
       "      <td>2654.20</td>\n",
       "      <td>2553.515177</td>\n",
       "      <td>100.684823</td>\n",
       "    </tr>\n",
       "    <tr>\n",
       "      <th>19</th>\n",
       "      <td>21.50</td>\n",
       "      <td>1753.70</td>\n",
       "      <td>1829.020154</td>\n",
       "      <td>-75.320154</td>\n",
       "    </tr>\n",
       "  </tbody>\n",
       "</table>\n",
       "</div>"
      ],
      "text/plain": [
       "        X        y         pred       error\n",
       "0   15.50  2158.70  2051.941699  106.758301\n",
       "1   23.75  1678.15  1745.424574  -67.274574\n",
       "2    8.00  2316.00  2330.593631  -14.593631\n",
       "3   17.00  2061.30  1996.211313   65.088687\n",
       "4    5.50  2207.50  2423.477609 -215.977609\n",
       "5   19.00  1708.30  1921.904131 -213.604131\n",
       "6   24.00  1784.70  1736.136176   48.563824\n",
       "7    2.50  2575.00  2534.938382   40.061618\n",
       "8    7.50  2357.90  2349.170427    8.729573\n",
       "9   11.00  2256.70  2219.132859   37.567141\n",
       "10  13.00  2165.20  2144.825677   20.374323\n",
       "11   3.75  2399.55  2488.496393  -88.946393\n",
       "12  25.00  1779.80  1698.982585   80.817415\n",
       "13   9.75  2336.75  2265.574847   71.175153\n",
       "14  22.00  1765.30  1810.443358  -45.143358\n",
       "15  18.00  2053.50  1959.057722   94.442278\n",
       "16   6.00  2414.40  2404.900813    9.499187\n",
       "17  12.50  2200.50  2163.402472   37.097528\n",
       "18   2.00  2654.20  2553.515177  100.684823\n",
       "19  21.50  1753.70  1829.020154  -75.320154"
      ]
     },
     "execution_count": 9,
     "metadata": {},
     "output_type": "execute_result"
    }
   ],
   "source": [
    "y_pred = modelo_regresion.predict(x_machine)\n",
    "\n",
    "df_results = pd.DataFrame({'X': x_machine.flatten(), 'y': y_machine.flatten(), 'pred': y_pred.flatten()})\n",
    "df_results['error'] = df_results['y'] - df_results['pred']\n",
    "\n",
    "df_results"
   ]
  },
  {
   "cell_type": "code",
   "execution_count": 10,
   "id": "8f3319bc",
   "metadata": {},
   "outputs": [
    {
     "data": {
      "text/plain": [
       "count    2.000000e+01\n",
       "mean     1.705303e-13\n",
       "std      9.354280e+01\n",
       "min     -2.159776e+02\n",
       "25%     -5.067616e+01\n",
       "50%      2.873593e+01\n",
       "75%      6.661030e+01\n",
       "max      1.067583e+02\n",
       "Name: error, dtype: float64"
      ]
     },
     "execution_count": 10,
     "metadata": {},
     "output_type": "execute_result"
    }
   ],
   "source": [
    "df_results['error'].describe()"
   ]
  },
  {
   "cell_type": "code",
   "execution_count": 11,
   "id": "b2851131",
   "metadata": {},
   "outputs": [
    {
     "data": {
      "text/plain": [
       "8312.742903349057"
      ]
     },
     "execution_count": 11,
     "metadata": {},
     "output_type": "execute_result"
    }
   ],
   "source": [
    "mse = mean_squared_error(y_machine, y_pred)\n",
    "mse"
   ]
  },
  {
   "cell_type": "code",
   "execution_count": 12,
   "id": "11eff5a1",
   "metadata": {},
   "outputs": [
    {
     "data": {
      "text/plain": [
       "91.17424473692698"
      ]
     },
     "execution_count": 12,
     "metadata": {},
     "output_type": "execute_result"
    }
   ],
   "source": [
    "rse = np.sqrt(mse)\n",
    "rse"
   ]
  },
  {
   "cell_type": "code",
   "execution_count": 13,
   "id": "a36517fc",
   "metadata": {},
   "outputs": [
    {
     "name": "stdout",
     "output_type": "stream",
     "text": [
      "                            OLS Regression Results                            \n",
      "==============================================================================\n",
      "Dep. Variable:                      y   R-squared:                       0.902\n",
      "Model:                            OLS   Adj. R-squared:                  0.896\n",
      "Method:                 Least Squares   F-statistic:                     165.4\n",
      "Date:                Mon, 08 Jan 2024   Prob (F-statistic):           1.64e-10\n",
      "Time:                        09:36:17   Log-Likelihood:                -118.63\n",
      "No. Observations:                  20   AIC:                             241.3\n",
      "Df Residuals:                      18   BIC:                             243.3\n",
      "Df Model:                           1                                         \n",
      "Covariance Type:            nonrobust                                         \n",
      "==============================================================================\n",
      "                 coef    std err          t      P>|t|      [0.025      0.975]\n",
      "------------------------------------------------------------------------------\n",
      "const       2627.8224     44.184     59.475      0.000    2534.995    2720.649\n",
      "x1           -37.1536      2.889    -12.860      0.000     -43.223     -31.084\n",
      "==============================================================================\n",
      "Omnibus:                        6.304   Durbin-Watson:                   1.842\n",
      "Prob(Omnibus):                  0.043   Jarque-Bera (JB):                4.281\n",
      "Skew:                          -1.109   Prob(JB):                        0.118\n",
      "Kurtosis:                       3.464   Cond. No.                         31.5\n",
      "==============================================================================\n",
      "\n",
      "Notes:\n",
      "[1] Standard Errors assume that the covariance matrix of the errors is correctly specified.\n"
     ]
    }
   ],
   "source": [
    "X_train = sm.add_constant(x_machine, prepend=True)\n",
    "modelo = sm.OLS(endog=y_machine, exog=X_train,)\n",
    "modelo = modelo.fit()\n",
    "print(modelo.summary())"
   ]
  },
  {
   "cell_type": "markdown",
   "id": "5a20a87f",
   "metadata": {},
   "source": [
    "## 1.1.2.12 Activity\n",
    "\n",
    "$ y_i \\sim N (\\mu_i, \\sigma^2) \\ con \\ i=1,\\cdots,n$\n",
    "\n",
    "$ \\mu_i = 4 + 5x_i $\n",
    "\n",
    "$ \\sigma^2=9 $\n",
    "\n",
    "$ x_i \\sim 𝑃𝑜𝑖𝑠𝑠𝑜𝑛(\\lambda=5) $\n",
    "\n",
    "1. Simule un conjunto de datos con $𝑛=5$ y estime los parámetros del modelo.\n",
    "\n",
    "2. Simule 100 conjuntos de datos con $𝑛=5$ estime los parámetros del modelo y almacene todas las 100 estimaciones para cada uno de los tres parámetros Calcule las medias de los estimadores.\n",
    "\n",
    "3. Repita el ejercicio anterior para 𝑛=5,10,15,20,30,50,100,500y calcule el error cuadrático medio para cada\n",
    "estimador.\n",
    "\n",
    "¿Qué tan cerca están las estimaciones del verdadero vector de parámetros? <br>\n",
    "¿Qué tan bien se ajusta esta ecuación a los datos? <br>\n",
    "¿Es probable que el modelo sea útil como predictor? <br>\n",
    "¿Se viola alguna de las hipótesis básicas (como varianza constante y errores no correlacionados)? y en caso\n",
    "afirmativo, ¿qué tan grave es eso?"
   ]
  },
  {
   "cell_type": "code",
   "execution_count": 14,
   "id": "815c8442",
   "metadata": {},
   "outputs": [],
   "source": [
    "# Numero de puntos\n",
    "n = 5\n",
    "# Varianza\n",
    "var = 9\n",
    "# Parámetro lambda para la distribución de Poisson\n",
    "lmbda = 3.0"
   ]
  },
  {
   "cell_type": "code",
   "execution_count": 34,
   "id": "a8c9c999",
   "metadata": {},
   "outputs": [],
   "source": [
    "# Generar 5 números aleatorios con distribución de Poisson\n",
    "x = poisson.rvs(lmbda, size=n)\n",
    "# Calcular los estadisticos\n",
    "media = -4+5*x\n",
    "# Generar 5 números aleatorios con distribución de Normal con la media y la varianza\n",
    "y = np.random.normal(loc=media, scale=np.sqrt(var), size=n)"
   ]
  },
  {
   "cell_type": "code",
   "execution_count": 37,
   "id": "c23ac1c8",
   "metadata": {},
   "outputs": [
    {
     "name": "stdout",
     "output_type": "stream",
     "text": [
      "Intercepto= -0.7213837798588472\n",
      "Pendiente= 4.027927528574889\n"
     ]
    }
   ],
   "source": [
    "# Lineal regression\n",
    "modelo_regresion = LinearRegression().fit(x.reshape(-1, 1), y)\n",
    "pendiente = modelo_regresion.coef_[0]\n",
    "intercepto = modelo_regresion.intercept_\n",
    "\n",
    "linea_regresion = pendiente * x + intercepto"
   ]
  },
  {
   "cell_type": "code",
   "execution_count": 38,
   "id": "f854ac3a",
   "metadata": {},
   "outputs": [
    {
     "data": {
      "image/png": "[encoded data removed]",
      "text/plain": [
       "<Figure size 600x600 with 1 Axes>"
      ]
     },
     "metadata": {},
     "output_type": "display_data"
    }
   ],
   "source": [
    "# Create the chart\n",
    "plt.figure(figsize=(6, 6))\n",
    "plt.scatter(x, y, label='Machine data')\n",
    "plt.plot(x, linea_regresion, color='red', label=f'Regression: y = {pendiente:.2f}x + {intercepto:.2f}')\n",
    "plt.title('Regression Chart')\n",
    "plt.xlabel('Edad')\n",
    "plt.ylabel('PSI')\n",
    "plt.legend()\n",
    "plt.show()"
   ]
  },
  {
   "cell_type": "markdown",
   "id": "015553f3",
   "metadata": {},
   "source": []
  },
  {
   "cell_type": "code",
   "execution_count": null,
   "id": "ba4113dd",
   "metadata": {},
   "outputs": [],
   "source": []
  },
  {
   "cell_type": "code",
   "execution_count": 16,
   "id": "55e0489e",
   "metadata": {},
   "outputs": [
    {
     "name": "stdout",
     "output_type": "stream",
     "text": [
      "ok_\n"
     ]
    }
   ],
   "source": [
    "print('ok_')"
   ]
  }
 ],
 "metadata": {
  "kernelspec": {
   "display_name": "Python 3 (ipykernel)",
   "language": "python",
   "name": "python3"
  },
  "language_info": {
   "codemirror_mode": {
    "name": "ipython",
    "version": 3
   },
   "file_extension": ".py",
   "mimetype": "text/x-python",
   "name": "python",
   "nbconvert_exporter": "python",
   "pygments_lexer": "ipython3",
   "version": "3.12.1"
  }
 },
 "nbformat": 4,
 "nbformat_minor": 5
}
