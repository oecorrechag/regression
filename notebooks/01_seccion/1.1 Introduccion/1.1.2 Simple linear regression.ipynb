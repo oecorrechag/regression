{
 "cells": [
  {
   "cell_type": "markdown",
   "id": "6bfc8fc6",
   "metadata": {},
   "source": [
    "# 1.1.2 Simple linear regression"
   ]
  },
  {
   "cell_type": "code",
   "execution_count": 26,
   "id": "53b57b40",
   "metadata": {},
   "outputs": [],
   "source": [
    "%load_ext autoreload\n",
    "%autoreload 2"
   ]
  },
  {
   "cell_type": "code",
   "execution_count": 27,
   "id": "5fb86f3c",
   "metadata": {},
   "outputs": [],
   "source": [
    "import pandas as pd\n",
    "import numpy as np\n",
    "import matplotlib.pyplot as plt\n",
    "from sklearn.linear_model import LinearRegression\n",
    "\n",
    "pd.set_option('display.max_columns', None)\n",
    "pd.set_option('display.max_rows', None)\n",
    "import warnings\n",
    "warnings.filterwarnings(\"ignore\")"
   ]
  },
  {
   "cell_type": "markdown",
   "id": "8513e901",
   "metadata": {},
   "source": [
    "Links: https://priceonomics.com/the-discovery-of-statistical-regression/\n",
    "\n",
    "## 1.1.2.1 El modelo forma I\n",
    "\n",
    "$$ y = \\beta_{0} + \\beta_{1}x + e $$\n",
    "\n",
    "con los supuestos:\n",
    "\n",
    "- E(e) = 0\n",
    "- Var(e) = $\\sigma^2$ -> varianza constante\n",
    "- e $\\sim$ Normal\n",
    "- Errores incorrelacionados\n",
    "\n",
    "## 1.1.2.2 El modelo forma I\n",
    "\n",
    "$$ 𝑦 \\sim 𝑁(\\mu, \\sigma^2) $$\n",
    "\n",
    "con los supuestos:\n",
    "\n",
    "- $\\mu = \\beta_{0} + \\beta_{1}x $\n",
    "- $\\sigma^2$ varianza constante\n",
    "\n",
    "## 1.1.2.3 Distribución de 𝑦 dado 𝑥\n",
    "\n",
    "Como:\n",
    "\n",
    "$$ 𝑦 = \\beta_{0} + \\beta_{1}x + e $$\n",
    "\n",
    "entonces:\n",
    "\n",
    "- $𝐸(𝑦|𝑥) = \\beta_{0} + \\beta_{1}x $\n",
    "- $𝑉𝑎𝑟(𝑦|𝑥) = 𝑉𝑎𝑟(\\beta_{0} + \\beta_{1}x + e) = \\sigma^2 $\n",
    "\n",
    "## 1.1.2.4 Parámetros del modelo\n",
    "\n",
    "- $\\beta_{0}$: Intercepto\n",
    "- $\\beta_{1}$: Coeficiente de 𝑥\n",
    "- $\\sigma^2$: Varianza de los errores\n",
    "\n",
    "## 1.1.2.5 Estimación de parámetros\n",
    "\n",
    "- Estimación por Mínimos Cuadrados\n",
    "- Estimación por Máxima Verosimilitud"
   ]
  },
  {
   "cell_type": "code",
   "execution_count": null,
   "id": "b16a4401",
   "metadata": {},
   "outputs": [],
   "source": []
  },
  {
   "cell_type": "code",
   "execution_count": 32,
   "id": "55e0489e",
   "metadata": {},
   "outputs": [
    {
     "name": "stdout",
     "output_type": "stream",
     "text": [
      "ok_\n"
     ]
    }
   ],
   "source": [
    "print('ok_')"
   ]
  }
 ],
 "metadata": {
  "kernelspec": {
   "display_name": "Python 3 (ipykernel)",
   "language": "python",
   "name": "python3"
  },
  "language_info": {
   "codemirror_mode": {
    "name": "ipython",
    "version": 3
   },
   "file_extension": ".py",
   "mimetype": "text/x-python",
   "name": "python",
   "nbconvert_exporter": "python",
   "pygments_lexer": "ipython3",
   "version": "3.12.1"
  }
 },
 "nbformat": 4,
 "nbformat_minor": 5
}
